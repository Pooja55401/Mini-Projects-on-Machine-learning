{
 "cells": [
  {
   "cell_type": "markdown",
   "metadata": {},
   "source": [
    "# Predicting the product rating based on reviews\n",
    "\n",
    "This python code takes the dataset as input which contains the product information including reviews in the form of CSV file. Here we are using nltk library to parse the reviews and finding their tf-itf values to perform modeling on them. We have used the following algorithm to train our model, to see the accuracy of each model on the datset-\n",
    "\n",
    "1. Linear regression\n",
    "2. PCA \n",
    "3. SVD\n",
    "4. Random forest\n",
    "5. Plotting bar chart (model-vs-rmse values)\n",
    "\n",
    "Finally, we have concluded best prediction based on rmse values."
   ]
  },
  {
   "cell_type": "code",
   "execution_count": 42,
   "metadata": {
    "collapsed": true
   },
   "outputs": [],
   "source": [
    "import nltk\n",
    "from nltk.corpus import stopwords\n",
    "from nltk.tokenize import word_tokenize\n",
    "\n",
    "import pandas as pd\n",
    "import numpy as np\n",
    "from sklearn.feature_extraction.text import TfidfVectorizer\n",
    "from sklearn.linear_model import LinearRegression\n",
    "\n",
    "from sklearn.model_selection import train_test_split\n",
    "from sklearn.metrics import mean_absolute_error, mean_squared_error\n",
    "from sklearn.preprocessing import StandardScaler\n",
    "\n",
    "from sklearn.preprocessing import scale\n",
    "from sklearn.decomposition import PCA"
   ]
  },
  {
   "cell_type": "code",
   "execution_count": 5,
   "metadata": {},
   "outputs": [],
   "source": [
    "#loading the data\n",
    "\n",
    "df=pd.read_csv(\"Datafiniti_Amazon_Consumer_Reviews_of_Amazon_Products.csv\")\n",
    "df.head()\n",
    "df1=df[['reviews.text','reviews.rating']]"
   ]
  },
  {
   "cell_type": "code",
   "execution_count": 6,
   "metadata": {},
   "outputs": [],
   "source": [
    "#removing the stopwords form the reviews' text\n",
    "\n",
    "l=[]\n",
    "for x in df1['reviews.text']:\n",
    "\n",
    "    word_tokens = word_tokenize(x)\n",
    "\n",
    "    filtered_words = [word for word in word_tokens if word not in stopwords.words('english')]\n",
    "    \n",
    "    l.append(\" \".join(filtered_words))"
   ]
  },
  {
   "cell_type": "code",
   "execution_count": 7,
   "metadata": {},
   "outputs": [
    {
     "name": "stderr",
     "output_type": "stream",
     "text": [
      "C:\\ProgramData\\Anaconda3\\lib\\site-packages\\ipykernel_launcher.py:1: SettingWithCopyWarning: \n",
      "A value is trying to be set on a copy of a slice from a DataFrame.\n",
      "Try using .loc[row_indexer,col_indexer] = value instead\n",
      "\n",
      "See the caveats in the documentation: http://pandas.pydata.org/pandas-docs/stable/indexing.html#indexing-view-versus-copy\n",
      "  \"\"\"Entry point for launching an IPython kernel.\n"
     ]
    }
   ],
   "source": [
    "df1['filter-rev']=pd.DataFrame(l)"
   ]
  },
  {
   "cell_type": "code",
   "execution_count": 8,
   "metadata": {},
   "outputs": [],
   "source": [
    "#findinf tf-idf values\n",
    "\n",
    "vectorizer = TfidfVectorizer()\n",
    "  \n",
    "vectors = vectorizer.fit_transform(df1['filter-rev'])\n",
    "feature_names = vectorizer.get_feature_names()\n",
    "dense = vectors.todense()\n",
    "denselist = dense.tolist()\n",
    "df= pd.DataFrame(denselist, columns=feature_names)"
   ]
  },
  {
   "cell_type": "code",
   "execution_count": 10,
   "metadata": {},
   "outputs": [
    {
     "data": {
      "text/plain": [
       "00              0\n",
       "10              0\n",
       "100             0\n",
       "1000            0\n",
       "1000s           0\n",
       "105             0\n",
       "1080            0\n",
       "10th            0\n",
       "10x             0\n",
       "11              0\n",
       "11yr            0\n",
       "12              0\n",
       "120             0\n",
       "128             0\n",
       "128gb           0\n",
       "129             0\n",
       "13              0\n",
       "139             0\n",
       "13th            0\n",
       "14              0\n",
       "149             0\n",
       "15              0\n",
       "150             0\n",
       "15mins          0\n",
       "16              0\n",
       "16g             0\n",
       "16gb            0\n",
       "17              0\n",
       "18              0\n",
       "180             0\n",
       "               ..\n",
       "zinio           0\n",
       "zippy           0\n",
       "zone            0\n",
       "zoo             0\n",
       "zooms           0\n",
       "äãis            0\n",
       "äî              0\n",
       "äîand           0\n",
       "äîbadly         0\n",
       "äîespecially    0\n",
       "äò              0\n",
       "äôd             0\n",
       "äôll            0\n",
       "äôm             0\n",
       "äôre            0\n",
       "äôs             0\n",
       "äôt             0\n",
       "äôve            0\n",
       "äù              0\n",
       "äùcrestron      0\n",
       "äú              0\n",
       "äúalexa         0\n",
       "äúbest          0\n",
       "äúdropping      0\n",
       "äúdual          0\n",
       "äúshow          0\n",
       "äúskills        0\n",
       "äústar          0\n",
       "äúthings        0\n",
       "ôºå             0\n",
       "Length: 5392, dtype: int64"
      ]
     },
     "execution_count": 10,
     "metadata": {},
     "output_type": "execute_result"
    }
   ],
   "source": [
    "#Scaling the data \n",
    "df.shape\n",
    "df.isnull().sum()"
   ]
  },
  {
   "cell_type": "code",
   "execution_count": 11,
   "metadata": {},
   "outputs": [
    {
     "data": {
      "text/plain": [
       "0"
      ]
     },
     "execution_count": 11,
     "metadata": {},
     "output_type": "execute_result"
    }
   ],
   "source": [
    "df1['reviews.rating'].isnull().sum()"
   ]
  },
  {
   "cell_type": "code",
   "execution_count": 12,
   "metadata": {},
   "outputs": [],
   "source": [
    "scaler = StandardScaler()\n",
    "scaler.fit(df)\n",
    "X = scaler.transform(df)"
   ]
  },
  {
   "cell_type": "markdown",
   "metadata": {},
   "source": [
    "### Prediction by using Linear Regression"
   ]
  },
  {
   "cell_type": "code",
   "execution_count": 13,
   "metadata": {},
   "outputs": [],
   "source": [
    "X_train, X_test, y_train, y_test= train_test_split(X, df1['reviews.rating'], test_size=0.3)\n",
    "model = LinearRegression().fit(X_train, y_train)\n",
    "y_pred=model.predict(X_test)"
   ]
  },
  {
   "cell_type": "code",
   "execution_count": 14,
   "metadata": {},
   "outputs": [],
   "source": [
    "# making assumptionon the preddiction of model to noramlie the values\n",
    "\n",
    "for i in range(len(y_pred)):\n",
    "    \n",
    "    if y_pred[i]>5:\n",
    "        y_pred[i]=5\n",
    "    if y_pred[i]<1:\n",
    "        y_pred[i]=1\n",
    "    else:\n",
    "        y_pred[i]=round(y_pred[i])"
   ]
  },
  {
   "cell_type": "code",
   "execution_count": 15,
   "metadata": {},
   "outputs": [
    {
     "name": "stdout",
     "output_type": "stream",
     "text": [
      "      Actual  Predicted\n",
      "4934       5        5.0\n",
      "1849       4        4.0\n",
      "1963       4        5.0\n",
      "4445       4        4.0\n",
      "2196       5        5.0\n",
      "210        5        5.0\n",
      "4937       5        5.0\n",
      "1170       5        5.0\n",
      "784        5        1.0\n",
      "4049       4        3.0\n",
      "3095       4        5.0\n",
      "4688       5        5.0\n",
      "2652       5        4.0\n",
      "3858       4        5.0\n",
      "4289       5        5.0\n",
      "118        5        1.0\n",
      "2188       5        5.0\n",
      "3231       5        1.0\n",
      "3017       5        5.0\n",
      "3097       3        1.0\n",
      "4695       5        5.0\n",
      "613        5        5.0\n",
      "3901       4        1.0\n",
      "1753       5        5.0\n",
      "3274       5        5.0\n",
      "435        5        1.0\n",
      "3219       4        5.0\n",
      "1039       5        5.0\n",
      "4813       5        5.0\n",
      "3659       5        5.0\n",
      "...      ...        ...\n",
      "760        5        1.0\n",
      "2955       4        1.0\n",
      "34         4        1.0\n",
      "2441       5        1.0\n",
      "2430       4        1.0\n",
      "441        5        1.0\n",
      "4550       5        3.0\n",
      "736        4        1.0\n",
      "903        4        5.0\n",
      "1051       4        5.0\n",
      "1324       5        1.0\n",
      "3852       5        5.0\n",
      "1715       5        5.0\n",
      "2117       5        5.0\n",
      "1238       5        4.0\n",
      "3584       5        4.0\n",
      "937        4        1.0\n",
      "565        5        5.0\n",
      "4898       5        5.0\n",
      "992        5        5.0\n",
      "1202       5        5.0\n",
      "1678       5        5.0\n",
      "3934       5        5.0\n",
      "1935       5        1.0\n",
      "1112       4        5.0\n",
      "327        4        5.0\n",
      "3119       3        5.0\n",
      "4479       5        5.0\n",
      "2741       4        3.0\n",
      "2892       4        5.0\n",
      "\n",
      "[1500 rows x 2 columns]\n"
     ]
    }
   ],
   "source": [
    "df_preds = pd.DataFrame({'Actual': y_test, 'Predicted': y_pred})\n",
    "print(df_preds)"
   ]
  },
  {
   "cell_type": "code",
   "execution_count": 18,
   "metadata": {},
   "outputs": [
    {
     "name": "stdout",
     "output_type": "stream",
     "text": [
      "Mean absolute error: 1.26\n",
      "Mean squared error: 4.02\n",
      "Root mean squared error: 2.00\n"
     ]
    }
   ],
   "source": [
    "#calculating the erros\n",
    "\n",
    "mae = mean_absolute_error(y_test, y_pred)\n",
    "mse = mean_squared_error(y_test, y_pred)\n",
    "rmse = np.sqrt(mse)\n",
    "\n",
    "print(f'Mean absolute error: {mae:.2f}')\n",
    "print(f'Mean squared error: {mse:.2f}')\n",
    "print(f'Root mean squared error: {rmse:.2f}')"
   ]
  },
  {
   "cell_type": "markdown",
   "metadata": {},
   "source": [
    "### Prediction by using PCA"
   ]
  },
  {
   "cell_type": "code",
   "execution_count": 19,
   "metadata": {},
   "outputs": [],
   "source": [
    "pca=PCA(n_components = 300)\n",
    "X_reduced=pca.fit_transform(scale(X))"
   ]
  },
  {
   "cell_type": "code",
   "execution_count": 20,
   "metadata": {},
   "outputs": [],
   "source": [
    "pca_X_train, pca_X_test, pca_y_train, pca_y_test= train_test_split(X_reduced, df1['reviews.rating'], test_size=0.3)\n",
    "\n",
    "lr=LinearRegression()\n",
    "model=lr.fit(pca_X_train, pca_y_train)\n",
    "\n",
    "pca_y_pred=model.predict(pca_X_test)\n",
    "\n",
    "# making assumption\n",
    "for i in range(len(pca_y_pred)):\n",
    "    \n",
    "    if pca_y_pred[i]>5:\n",
    "        pca_y_pred[i]=5\n",
    "    if pca_y_pred[i]<1:\n",
    "        pca_y_pred[i]=1\n",
    "    else:\n",
    "        pca_y_pred[i]=round(pca_y_pred[i])\n",
    "        \n",
    "pca_pred = pd.DataFrame({'Actual': pca_y_test, 'Predicted': pca_y_pred})\n",
    "\n"
   ]
  },
  {
   "cell_type": "code",
   "execution_count": 21,
   "metadata": {},
   "outputs": [
    {
     "name": "stdout",
     "output_type": "stream",
     "text": [
      "Mean absolute error: 0.43\n",
      "Mean squared error: 0.68\n",
      "Root mean squared error: 0.82\n"
     ]
    }
   ],
   "source": [
    "mae = mean_absolute_error(pca_y_test, pca_y_pred)\n",
    "mse = mean_squared_error(pca_y_test, pca_y_pred)\n",
    "rmse = np.sqrt(mse)\n",
    "\n",
    "print(f'Mean absolute error: {mae:.2f}')\n",
    "print(f'Mean squared error: {mse:.2f}')\n",
    "print(f'Root mean squared error: {rmse:.2f}')"
   ]
  },
  {
   "cell_type": "markdown",
   "metadata": {},
   "source": [
    "###  Prediction by using SVD decomposition "
   ]
  },
  {
   "cell_type": "code",
   "execution_count": 23,
   "metadata": {},
   "outputs": [],
   "source": [
    "from sklearn.decomposition import PCA, TruncatedSVD\n",
    "svd = TruncatedSVD(n_components = 300)\n",
    "svd.fit(X)\n",
    "svd_X = pca.transform(X)"
   ]
  },
  {
   "cell_type": "code",
   "execution_count": 25,
   "metadata": {},
   "outputs": [],
   "source": [
    "svd_X_train, svd_X_test, svd_y_train, svd_y_test= train_test_split(svd_X, df1['reviews.rating'], test_size=0.3)\n",
    "\n",
    "model = LinearRegression().fit(svd_X_train, svd_y_train)\n",
    "\n",
    "svd_y_pred=model.predict(svd_X_test)\n",
    "\n",
    "# making assumption\n",
    "for i in range(len(svd_y_pred)):\n",
    "    \n",
    "    if svd_y_pred[i]>5:\n",
    "        svd_y_pred[i]=5\n",
    "    if svd_y_pred[i]<1:\n",
    "        svd_y_pred[i]=1\n",
    "    else:\n",
    "        svd_y_pred[i]=round(svd_y_pred[i])\n",
    "        \n",
    "svd_pred = pd.DataFrame({'Actual': svd_y_test.squeeze(), 'Predicted': svd_y_pred.squeeze()})\n",
    "\n"
   ]
  },
  {
   "cell_type": "code",
   "execution_count": 26,
   "metadata": {},
   "outputs": [
    {
     "name": "stdout",
     "output_type": "stream",
     "text": [
      "Mean absolute error: 0.41\n",
      "Mean squared error: 0.63\n",
      "Root mean squared error: 0.79\n"
     ]
    }
   ],
   "source": [
    "mae = mean_absolute_error(svd_y_test, svd_y_pred)\n",
    "mse = mean_squared_error(svd_y_test, svd_y_pred)\n",
    "rmse = np.sqrt(mse)\n",
    "print(f'Mean absolute error: {mae:.2f}')\n",
    "print(f'Mean squared error: {mse:.2f}')\n",
    "print(f'Root mean squared error: {rmse:.2f}')"
   ]
  },
  {
   "cell_type": "markdown",
   "metadata": {},
   "source": [
    "### Prediction by using Random forest"
   ]
  },
  {
   "cell_type": "code",
   "execution_count": 28,
   "metadata": {
    "collapsed": true
   },
   "outputs": [],
   "source": [
    "from sklearn.ensemble import RandomForestRegressor"
   ]
  },
  {
   "cell_type": "code",
   "execution_count": 35,
   "metadata": {},
   "outputs": [],
   "source": [
    "random_forest = RandomForestRegressor(n_estimators=100)\n",
    "random_forest.fit(X_train,y_train)\n",
    "rand_y_pred = random_forest.predict(X_test)"
   ]
  },
  {
   "cell_type": "code",
   "execution_count": 36,
   "metadata": {},
   "outputs": [
    {
     "name": "stdout",
     "output_type": "stream",
     "text": [
      "Accuracy for Random Forest 65.87705243692812\n"
     ]
    }
   ],
   "source": [
    "from sklearn.metrics import mean_squared_error\n",
    "\n",
    "mse = mean_squared_error(y_test, rand_y_pred)\n",
    "rmse = np.math.sqrt(mse)\n",
    "print('Accuracy for Random Forest',100*max(0,rmse)) "
   ]
  },
  {
   "cell_type": "code",
   "execution_count": 37,
   "metadata": {},
   "outputs": [
    {
     "name": "stdout",
     "output_type": "stream",
     "text": [
      "\n",
      "RMSE:\n",
      " 0.659\n"
     ]
    }
   ],
   "source": [
    "rmse = float(format(np.sqrt(mean_squared_error(y_test, rand_y_pred)),'.3f'))\n",
    "print(\"\\nRMSE:\\n\",rmse)"
   ]
  },
  {
   "cell_type": "markdown",
   "metadata": {},
   "source": [
    "## Conclusion\n",
    "\n",
    "Based on rmse values, Random forest tend to offer best accuracy over the remaining three.\n",
    "\n",
    "#### Algorithm   --     rmse values\n",
    "\n",
    "1. Linear Regression: 2.00\n",
    "2. PCA : 0.82\n",
    "3. SVD :  0.79\n",
    "4. Random-forest : 0.659"
   ]
  },
  {
   "cell_type": "code",
   "execution_count": 48,
   "metadata": {},
   "outputs": [],
   "source": [
    "import matplotlib.pyplot as plt\n",
    "\n",
    "models=['Linear Regression','PCA','SVD','Random-forest']\n",
    "rmse_values=[2.00,0.82,0.79,0.659]"
   ]
  },
  {
   "cell_type": "code",
   "execution_count": 54,
   "metadata": {},
   "outputs": [
    {
     "data": {
      "image/png": "[encoded data removed]",
      "text/plain": [
       "<matplotlib.figure.Figure at 0x22789b00e48>"
      ]
     },
     "metadata": {},
     "output_type": "display_data"
    }
   ],
   "source": [
    "fig = plt.figure(figsize = (10, 5))\n",
    "plt.bar(models, rmse_values, color ='green', width=0.4)\n",
    " \n",
    "plt.xlabel(\"Model\")\n",
    "plt.ylabel(\"rmse_values\")\n",
    "plt.title(\"(model-vs-rmse) accuracy\")\n",
    "plt.show()"
   ]
  },
  {
   "cell_type": "code",
   "execution_count": null,
   "metadata": {
    "collapsed": true
   },
   "outputs": [],
   "source": []
  }
 ],
 "metadata": {
  "kernelspec": {
   "display_name": "Python 3",
   "language": "python",
   "name": "python3"
  },
  "language_info": {
   "codemirror_mode": {
    "name": "ipython",
    "version": 3
   },
   "file_extension": ".py",
   "mimetype": "text/x-python",
   "name": "python",
   "nbconvert_exporter": "python",
   "pygments_lexer": "ipython3",
   "version": "3.6.3"
  }
 },
 "nbformat": 4,
 "nbformat_minor": 2
}
